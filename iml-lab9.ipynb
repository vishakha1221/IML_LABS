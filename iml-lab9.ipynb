{
 "cells": [
  {
   "cell_type": "code",
   "execution_count": 1,
   "id": "fd76a6bc",
   "metadata": {
    "execution": {
     "iopub.execute_input": "2023-10-13T07:46:49.292634Z",
     "iopub.status.busy": "2023-10-13T07:46:49.291785Z",
     "iopub.status.idle": "2023-10-13T07:46:50.043091Z",
     "shell.execute_reply": "2023-10-13T07:46:50.042041Z"
    },
    "papermill": {
     "duration": 0.757973,
     "end_time": "2023-10-13T07:46:50.046454",
     "exception": false,
     "start_time": "2023-10-13T07:46:49.288481",
     "status": "completed"
    },
    "tags": []
   },
   "outputs": [
    {
     "data": {
      "image/png": "[encoded data removed]",
      "text/plain": [
       "<Figure size 640x480 with 1 Axes>"
      ]
     },
     "metadata": {},
     "output_type": "display_data"
    }
   ],
   "source": [
    "import pandas as pd\n",
    "import matplotlib.pyplot as plt\n",
    "\n",
    "# Read the CSV file into a DataFrame\n",
    "df = pd.read_csv('/kaggle/input/nifty50-stock-market-data/TATAMOTORS.csv')\n",
    "\n",
    "# Limit the DataFrame to the first 130 rows\n",
    "limited_df = df.iloc[:12]\n",
    "\n",
    "# Create a date range with the desired start date and frequency\n",
    "date_range = pd.date_range(\"2000-03-07\", periods=len(limited_df), freq=\"D\")\n",
    "\n",
    "# Set the date range as the index of the limited DataFrame\n",
    "limited_df.set_index(date_range, inplace=True)\n",
    "\n",
    "# Define colors for candlesticks\n",
    "col1 = 'black'  # When the stock prices have increased\n",
    "col2 = 'red'    # When the stock prices have decreased\n",
    "\n",
    "# Define width for candlestick elements\n",
    "width = .3\n",
    "width2 =.03\n",
    "# Create separate DataFrames for \"up\" (increasing) and \"down\" (decreasing) prices\n",
    "up = limited_df[limited_df['Close'] > limited_df['Open']]\n",
    "down = limited_df[limited_df['Open'] > limited_df['Close']]\n",
    "\n",
    "# Plotting up prices of the stock\n",
    "plt.bar(up.index, up['Close'] - up['Open'], width, bottom=up['Open'], color=col1)\n",
    "plt.bar(up.index, up['High'] - up['Close'], width2, bottom=up['Close'], color=col1)\n",
    "plt.bar(up.index, up['Low'] - up['Open'], width2, bottom=up['Open'], color=col1)\n",
    "\n",
    "# Plotting down prices of the stock\n",
    "plt.bar(down.index, down['Open'] - down['Close'], width, bottom=down['Close'], color=col2)\n",
    "plt.bar(down.index, down['Open'] - down['High'], width2, bottom=down['High'], color=col2)\n",
    "plt.bar(down.index, down['Open'] - down['Low'], width2, bottom=down['Low'], color=col2)\n",
    "\n",
    "# Rotating the x-axis tick labels at 30 degrees towards right\n",
    "plt.xticks(rotation=30, ha='right')\n",
    "\n",
    "# Displaying the candlestick chart of stock data\n",
    "plt.show()\n"
   ]
  },
  {
   "cell_type": "markdown",
   "id": "9577fd86",
   "metadata": {
    "papermill": {
     "duration": 0.003626,
     "end_time": "2023-10-13T07:46:50.052656",
     "exception": false,
     "start_time": "2023-10-13T07:46:50.049030",
     "status": "completed"
    },
    "tags": []
   },
   "source": []
  }
 ],
 "metadata": {
  "kernelspec": {
   "display_name": "Python 3",
   "language": "python",
   "name": "python3"
  },
  "language_info": {
   "codemirror_mode": {
    "name": "ipython",
    "version": 3
   },
   "file_extension": ".py",
   "mimetype": "text/x-python",
   "name": "python",
   "nbconvert_exporter": "python",
   "pygments_lexer": "ipython3",
   "version": "3.10.12"
  },
  "papermill": {
   "default_parameters": {},
   "duration": 4.241584,
   "end_time": "2023-10-13T07:46:50.474017",
   "environment_variables": {},
   "exception": null,
   "input_path": "__notebook__.ipynb",
   "output_path": "__notebook__.ipynb",
   "parameters": {},
   "start_time": "2023-10-13T07:46:46.232433",
   "version": "2.4.0"
  }
 },
 "nbformat": 4,
 "nbformat_minor": 5
}
