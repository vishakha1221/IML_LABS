{
 "cells": [
  {
   "cell_type": "code",
   "execution_count": 1,
   "id": "1ec9d309",
   "metadata": {
    "_cell_guid": "b1076dfc-b9ad-4769-8c92-a6c4dae69d19",
    "_uuid": "8f2839f25d086af736a60e9eeb907d3b93b6e0e5",
    "execution": {
     "iopub.execute_input": "2023-11-04T13:31:40.875811Z",
     "iopub.status.busy": "2023-11-04T13:31:40.875449Z",
     "iopub.status.idle": "2023-11-04T13:31:41.265155Z",
     "shell.execute_reply": "2023-11-04T13:31:41.263557Z"
    },
    "papermill": {
     "duration": 0.396289,
     "end_time": "2023-11-04T13:31:41.268145",
     "exception": false,
     "start_time": "2023-11-04T13:31:40.871856",
     "status": "completed"
    },
    "tags": []
   },
   "outputs": [
    {
     "name": "stdout",
     "output_type": "stream",
     "text": [
      "Index(['Trades', 'Deliverable Volume', '%Deliverble'], dtype='object')\n",
      "Index([   0,    1,    2,    3,    4,    5,    6,    7,    8,    9,\n",
      "       ...\n",
      "       2840, 2841, 2842, 2843, 2844, 2845, 2846, 2847, 2848, 2849],\n",
      "      dtype='int64', length=2850)\n",
      "Index([   0,    1,    2,    3,    4,    5,    6,    7,    8,    9,\n",
      "       ...\n",
      "       2840, 2841, 2842, 2843, 2844, 2845, 2846, 2847, 2848, 2849],\n",
      "      dtype='int64', length=2850)\n",
      "            Date      Symbol Series  Prev Close   Open    High     Low  \\\n",
      "0     2000-01-03       TELCO     EQ      201.60  207.4  217.25  207.40   \n",
      "1     2000-01-04       TELCO     EQ      216.75  217.0  219.00  206.00   \n",
      "2     2000-01-05       TELCO     EQ      208.20  194.0  217.80  194.00   \n",
      "3     2000-01-06       TELCO     EQ      213.25  215.0  229.90  215.00   \n",
      "4     2000-01-07       TELCO     EQ      222.10  224.0  239.90  223.10   \n",
      "...          ...         ...    ...         ...    ...     ...     ...   \n",
      "5301  2021-04-26  TATAMOTORS     EQ      294.00  297.0  299.00  294.60   \n",
      "5302  2021-04-27  TATAMOTORS     EQ      295.40  295.7  302.50  295.10   \n",
      "5303  2021-04-28  TATAMOTORS     EQ      301.50  303.5  309.50  303.00   \n",
      "5304  2021-04-29  TATAMOTORS     EQ      305.90  308.9  310.00  301.25   \n",
      "5305  2021-04-30  TATAMOTORS     EQ      301.90  298.2  301.30  292.55   \n",
      "\n",
      "        Last   Close    VWAP    Volume      Turnover  \n",
      "0     217.00  216.75  214.28    676126  1.448775e+13  \n",
      "1     211.90  208.20  209.50    679215  1.422962e+13  \n",
      "2     213.10  213.25  210.33   1120951  2.357684e+13  \n",
      "3     222.00  222.10  225.29   1968998  4.435932e+13  \n",
      "4     239.90  239.90  236.32   2199431  5.197636e+13  \n",
      "...      ...     ...     ...       ...           ...  \n",
      "5301  295.85  295.40  296.48  30583139  9.067386e+14  \n",
      "5302  302.10  301.50  299.05  35040532  1.047879e+15  \n",
      "5303  305.15  305.90  307.22  44668126  1.372278e+15  \n",
      "5304  302.20  301.90  304.77  36647292  1.116900e+15  \n",
      "5305  293.10  293.85  297.01  36121668  1.072849e+15  \n",
      "\n",
      "[5306 rows x 12 columns]\n"
     ]
    }
   ],
   "source": [
    "'''\n",
    "Write a Pandas program to filter all columns where all entires present, check \n",
    "which rows and columns has a NaN and finally drop rows with any NaNs from the \n",
    "given dataset.\n",
    "\n",
    "Name :- Vishakha U. Chudasama\n",
    "Enrollment No :- 216270307070\n",
    "'''\n",
    "import numpy as np \n",
    "import pandas as pd \n",
    "\n",
    "df= pd.read_csv('/kaggle/input/nifty50-stock-market-data/TATAMOTORS.csv')\n",
    "na_cols = df.isna().values.any(axis=0)\n",
    "print(df.columns[na_cols])  # Get rows which contains nan value\n",
    "value = df.isna().values.any(axis=1)\n",
    "print(df.index[value]) # Get rows which contains nan value\n",
    "value = df.isna().values.any(axis=1)\n",
    "print(df.index[value]) #To drop all the columns having NaN (not a number) data\n",
    "cold = df.dropna(axis = 1)\n",
    "print(cold)"
   ]
  }
 ],
 "metadata": {
  "kernelspec": {
   "display_name": "Python 3",
   "language": "python",
   "name": "python3"
  },
  "language_info": {
   "codemirror_mode": {
    "name": "ipython",
    "version": 3
   },
   "file_extension": ".py",
   "mimetype": "text/x-python",
   "name": "python",
   "nbconvert_exporter": "python",
   "pygments_lexer": "ipython3",
   "version": "3.10.12"
  },
  "papermill": {
   "default_parameters": {},
   "duration": 3.779436,
   "end_time": "2023-11-04T13:31:41.692989",
   "environment_variables": {},
   "exception": null,
   "input_path": "__notebook__.ipynb",
   "output_path": "__notebook__.ipynb",
   "parameters": {},
   "start_time": "2023-11-04T13:31:37.913553",
   "version": "2.4.0"
  }
 },
 "nbformat": 4,
 "nbformat_minor": 5
}
