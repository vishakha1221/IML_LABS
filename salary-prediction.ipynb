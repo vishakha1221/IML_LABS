{
 "cells": [
  {
   "cell_type": "code",
   "execution_count": 1,
   "id": "b0d8bcae",
   "metadata": {
    "_cell_guid": "b1076dfc-b9ad-4769-8c92-a6c4dae69d19",
    "_uuid": "8f2839f25d086af736a60e9eeb907d3b93b6e0e5",
    "execution": {
     "iopub.execute_input": "2023-11-06T05:50:17.280335Z",
     "iopub.status.busy": "2023-11-06T05:50:17.279700Z",
     "iopub.status.idle": "2023-11-06T05:50:19.262081Z",
     "shell.execute_reply": "2023-11-06T05:50:19.260795Z"
    },
    "papermill": {
     "duration": 1.997271,
     "end_time": "2023-11-06T05:50:19.265093",
     "exception": false,
     "start_time": "2023-11-06T05:50:17.267822",
     "status": "completed"
    },
    "tags": []
   },
   "outputs": [],
   "source": [
    "'''\n",
    "Salary Prediction using Multiple Linear Regeression.\n",
    "\n",
    "Group Members:- \n",
    "216270307070 - Vishakha U. Chudasama\n",
    "216270307085 - Malay Bavrava\n",
    "'''\n",
    "# importing modules\n",
    "import pandas as pd\n",
    "import matplotlib.pyplot as plt \n",
    "import numpy as np\n",
    "\n",
    "# for data selection\n",
    "from sklearn.model_selection import train_test_split\n",
    "# Import the LinearRegression class\n",
    "from sklearn.linear_model import LinearRegression\n",
    "from sklearn.metrics import mean_squared_error, r2_score"
   ]
  },
  {
   "cell_type": "markdown",
   "id": "7eb4f829",
   "metadata": {
    "papermill": {
     "duration": 0.006791,
     "end_time": "2023-11-06T05:50:19.280748",
     "exception": false,
     "start_time": "2023-11-06T05:50:19.273957",
     "status": "completed"
    },
    "tags": []
   },
   "source": [
    "**<h1>Data Cleaning</h1>**"
   ]
  },
  {
   "cell_type": "code",
   "execution_count": 2,
   "id": "28826c84",
   "metadata": {
    "execution": {
     "iopub.execute_input": "2023-11-06T05:50:19.297001Z",
     "iopub.status.busy": "2023-11-06T05:50:19.295663Z",
     "iopub.status.idle": "2023-11-06T05:50:19.346265Z",
     "shell.execute_reply": "2023-11-06T05:50:19.345148Z"
    },
    "papermill": {
     "duration": 0.061821,
     "end_time": "2023-11-06T05:50:19.349276",
     "exception": false,
     "start_time": "2023-11-06T05:50:19.287455",
     "status": "completed"
    },
    "tags": []
   },
   "outputs": [
    {
     "data": {
      "text/html": [
       "<div>\n",
       "<style scoped>\n",
       "    .dataframe tbody tr th:only-of-type {\n",
       "        vertical-align: middle;\n",
       "    }\n",
       "\n",
       "    .dataframe tbody tr th {\n",
       "        vertical-align: top;\n",
       "    }\n",
       "\n",
       "    .dataframe thead th {\n",
       "        text-align: right;\n",
       "    }\n",
       "</style>\n",
       "<table border=\"1\" class=\"dataframe\">\n",
       "  <thead>\n",
       "    <tr style=\"text-align: right;\">\n",
       "      <th></th>\n",
       "      <th>Age</th>\n",
       "      <th>Gender</th>\n",
       "      <th>Education Level</th>\n",
       "      <th>Job Title</th>\n",
       "      <th>Years of Experience</th>\n",
       "      <th>Salary</th>\n",
       "    </tr>\n",
       "  </thead>\n",
       "  <tbody>\n",
       "    <tr>\n",
       "      <th>0</th>\n",
       "      <td>32.0</td>\n",
       "      <td>Male</td>\n",
       "      <td>Bachelor's</td>\n",
       "      <td>Software Engineer</td>\n",
       "      <td>5.0</td>\n",
       "      <td>90000.0</td>\n",
       "    </tr>\n",
       "    <tr>\n",
       "      <th>1</th>\n",
       "      <td>28.0</td>\n",
       "      <td>Female</td>\n",
       "      <td>Master's</td>\n",
       "      <td>Data Analyst</td>\n",
       "      <td>3.0</td>\n",
       "      <td>65000.0</td>\n",
       "    </tr>\n",
       "    <tr>\n",
       "      <th>2</th>\n",
       "      <td>45.0</td>\n",
       "      <td>Male</td>\n",
       "      <td>PhD</td>\n",
       "      <td>Senior Manager</td>\n",
       "      <td>15.0</td>\n",
       "      <td>150000.0</td>\n",
       "    </tr>\n",
       "    <tr>\n",
       "      <th>3</th>\n",
       "      <td>36.0</td>\n",
       "      <td>Female</td>\n",
       "      <td>Bachelor's</td>\n",
       "      <td>Sales Associate</td>\n",
       "      <td>7.0</td>\n",
       "      <td>60000.0</td>\n",
       "    </tr>\n",
       "    <tr>\n",
       "      <th>4</th>\n",
       "      <td>52.0</td>\n",
       "      <td>Male</td>\n",
       "      <td>Master's</td>\n",
       "      <td>Director</td>\n",
       "      <td>20.0</td>\n",
       "      <td>200000.0</td>\n",
       "    </tr>\n",
       "  </tbody>\n",
       "</table>\n",
       "</div>"
      ],
      "text/plain": [
       "    Age  Gender Education Level          Job Title  Years of Experience  \\\n",
       "0  32.0    Male      Bachelor's  Software Engineer                  5.0   \n",
       "1  28.0  Female        Master's       Data Analyst                  3.0   \n",
       "2  45.0    Male             PhD     Senior Manager                 15.0   \n",
       "3  36.0  Female      Bachelor's    Sales Associate                  7.0   \n",
       "4  52.0    Male        Master's           Director                 20.0   \n",
       "\n",
       "     Salary  \n",
       "0   90000.0  \n",
       "1   65000.0  \n",
       "2  150000.0  \n",
       "3   60000.0  \n",
       "4  200000.0  "
      ]
     },
     "execution_count": 2,
     "metadata": {},
     "output_type": "execute_result"
    }
   ],
   "source": [
    "data = pd.DataFrame(pd.read_csv(\"/kaggle/input/salaly-prediction-for-beginer/Salary Data.csv\"))\n",
    "data.head()"
   ]
  },
  {
   "cell_type": "code",
   "execution_count": 3,
   "id": "b87aa624",
   "metadata": {
    "execution": {
     "iopub.execute_input": "2023-11-06T05:50:19.365451Z",
     "iopub.status.busy": "2023-11-06T05:50:19.364782Z",
     "iopub.status.idle": "2023-11-06T05:50:19.373311Z",
     "shell.execute_reply": "2023-11-06T05:50:19.372110Z"
    },
    "papermill": {
     "duration": 0.019307,
     "end_time": "2023-11-06T05:50:19.375646",
     "exception": false,
     "start_time": "2023-11-06T05:50:19.356339",
     "status": "completed"
    },
    "tags": []
   },
   "outputs": [
    {
     "name": "stdout",
     "output_type": "stream",
     "text": [
      "Null Values in Dataset :- \n",
      " Age                    2\n",
      "Gender                 2\n",
      "Education Level        2\n",
      "Job Title              2\n",
      "Years of Experience    2\n",
      "Salary                 2\n",
      "dtype: int64 \n",
      "\n",
      "2250 \n",
      " (375, 6)\n"
     ]
    }
   ],
   "source": [
    "print(\"Null Values in Dataset :- \\n\",data.isnull().sum(),\"\\n\")\n",
    "print(data.size,\"\\n\",data.shape)"
   ]
  },
  {
   "cell_type": "code",
   "execution_count": 4,
   "id": "963bddb7",
   "metadata": {
    "execution": {
     "iopub.execute_input": "2023-11-06T05:50:19.391964Z",
     "iopub.status.busy": "2023-11-06T05:50:19.391314Z",
     "iopub.status.idle": "2023-11-06T05:50:19.402543Z",
     "shell.execute_reply": "2023-11-06T05:50:19.401315Z"
    },
    "papermill": {
     "duration": 0.022095,
     "end_time": "2023-11-06T05:50:19.404854",
     "exception": false,
     "start_time": "2023-11-06T05:50:19.382759",
     "status": "completed"
    },
    "tags": []
   },
   "outputs": [
    {
     "data": {
      "text/plain": [
       "(373, 6)"
      ]
     },
     "execution_count": 4,
     "metadata": {},
     "output_type": "execute_result"
    }
   ],
   "source": [
    "data_new = data.dropna()\n",
    "data_new.isnull().sum()\n",
    "data_new.shape"
   ]
  },
  {
   "cell_type": "code",
   "execution_count": 5,
   "id": "6a619bf4",
   "metadata": {
    "execution": {
     "iopub.execute_input": "2023-11-06T05:50:19.421364Z",
     "iopub.status.busy": "2023-11-06T05:50:19.420678Z",
     "iopub.status.idle": "2023-11-06T05:50:19.465127Z",
     "shell.execute_reply": "2023-11-06T05:50:19.463973Z"
    },
    "papermill": {
     "duration": 0.056078,
     "end_time": "2023-11-06T05:50:19.468082",
     "exception": false,
     "start_time": "2023-11-06T05:50:19.412004",
     "status": "completed"
    },
    "tags": []
   },
   "outputs": [
    {
     "name": "stdout",
     "output_type": "stream",
     "text": [
      "<class 'pandas.core.frame.DataFrame'>\n",
      "Index: 373 entries, 0 to 374\n",
      "Data columns (total 6 columns):\n",
      " #   Column               Non-Null Count  Dtype  \n",
      "---  ------               --------------  -----  \n",
      " 0   Age                  373 non-null    float64\n",
      " 1   Gender               373 non-null    object \n",
      " 2   Education Level      373 non-null    object \n",
      " 3   Job Title            373 non-null    object \n",
      " 4   Years of Experience  373 non-null    float64\n",
      " 5   Salary               373 non-null    float64\n",
      "dtypes: float64(3), object(3)\n",
      "memory usage: 20.4+ KB\n"
     ]
    },
    {
     "data": {
      "text/html": [
       "<div>\n",
       "<style scoped>\n",
       "    .dataframe tbody tr th:only-of-type {\n",
       "        vertical-align: middle;\n",
       "    }\n",
       "\n",
       "    .dataframe tbody tr th {\n",
       "        vertical-align: top;\n",
       "    }\n",
       "\n",
       "    .dataframe thead th {\n",
       "        text-align: right;\n",
       "    }\n",
       "</style>\n",
       "<table border=\"1\" class=\"dataframe\">\n",
       "  <thead>\n",
       "    <tr style=\"text-align: right;\">\n",
       "      <th></th>\n",
       "      <th>Age</th>\n",
       "      <th>Years of Experience</th>\n",
       "      <th>Salary</th>\n",
       "    </tr>\n",
       "  </thead>\n",
       "  <tbody>\n",
       "    <tr>\n",
       "      <th>count</th>\n",
       "      <td>373.000000</td>\n",
       "      <td>373.000000</td>\n",
       "      <td>373.000000</td>\n",
       "    </tr>\n",
       "    <tr>\n",
       "      <th>mean</th>\n",
       "      <td>37.431635</td>\n",
       "      <td>10.030831</td>\n",
       "      <td>100577.345845</td>\n",
       "    </tr>\n",
       "    <tr>\n",
       "      <th>std</th>\n",
       "      <td>7.069073</td>\n",
       "      <td>6.557007</td>\n",
       "      <td>48240.013482</td>\n",
       "    </tr>\n",
       "    <tr>\n",
       "      <th>min</th>\n",
       "      <td>23.000000</td>\n",
       "      <td>0.000000</td>\n",
       "      <td>350.000000</td>\n",
       "    </tr>\n",
       "    <tr>\n",
       "      <th>25%</th>\n",
       "      <td>31.000000</td>\n",
       "      <td>4.000000</td>\n",
       "      <td>55000.000000</td>\n",
       "    </tr>\n",
       "    <tr>\n",
       "      <th>50%</th>\n",
       "      <td>36.000000</td>\n",
       "      <td>9.000000</td>\n",
       "      <td>95000.000000</td>\n",
       "    </tr>\n",
       "    <tr>\n",
       "      <th>75%</th>\n",
       "      <td>44.000000</td>\n",
       "      <td>15.000000</td>\n",
       "      <td>140000.000000</td>\n",
       "    </tr>\n",
       "    <tr>\n",
       "      <th>max</th>\n",
       "      <td>53.000000</td>\n",
       "      <td>25.000000</td>\n",
       "      <td>250000.000000</td>\n",
       "    </tr>\n",
       "  </tbody>\n",
       "</table>\n",
       "</div>"
      ],
      "text/plain": [
       "              Age  Years of Experience         Salary\n",
       "count  373.000000           373.000000     373.000000\n",
       "mean    37.431635            10.030831  100577.345845\n",
       "std      7.069073             6.557007   48240.013482\n",
       "min     23.000000             0.000000     350.000000\n",
       "25%     31.000000             4.000000   55000.000000\n",
       "50%     36.000000             9.000000   95000.000000\n",
       "75%     44.000000            15.000000  140000.000000\n",
       "max     53.000000            25.000000  250000.000000"
      ]
     },
     "execution_count": 5,
     "metadata": {},
     "output_type": "execute_result"
    }
   ],
   "source": [
    "# a summary of the dataset\n",
    "data_new.info()\n",
    "\n",
    "# basic stats\n",
    "data_new.describe()"
   ]
  },
  {
   "cell_type": "markdown",
   "id": "74b54512",
   "metadata": {
    "papermill": {
     "duration": 0.007283,
     "end_time": "2023-11-06T05:50:19.483187",
     "exception": false,
     "start_time": "2023-11-06T05:50:19.475904",
     "status": "completed"
    },
    "tags": []
   },
   "source": [
    " **<h1>Data Visualization</h1>**"
   ]
  },
  {
   "cell_type": "code",
   "execution_count": 6,
   "id": "73d9ef65",
   "metadata": {
    "execution": {
     "iopub.execute_input": "2023-11-06T05:50:19.500429Z",
     "iopub.status.busy": "2023-11-06T05:50:19.500053Z",
     "iopub.status.idle": "2023-11-06T05:50:19.911458Z",
     "shell.execute_reply": "2023-11-06T05:50:19.910341Z"
    },
    "papermill": {
     "duration": 0.423316,
     "end_time": "2023-11-06T05:50:19.914209",
     "exception": false,
     "start_time": "2023-11-06T05:50:19.490893",
     "status": "completed"
    },
    "tags": []
   },
   "outputs": [
    {
     "data": {
      "image/png": "[encoded data removed]",
      "text/plain": [
       "<Figure size 640x480 with 1 Axes>"
      ]
     },
     "metadata": {},
     "output_type": "display_data"
    }
   ],
   "source": [
    "# Create a line plot\n",
    "plt.scatter(data_new['Age'], data_new['Salary'], color='red', s=6)\n",
    "\n",
    "# Customize the plot\n",
    "plt.title('Salary vs Age')\n",
    "plt.xlabel('Age')\n",
    "plt.ylabel('Salary')\n",
    "\n",
    "# Show the plot\n",
    "plt.show()"
   ]
  },
  {
   "cell_type": "code",
   "execution_count": 7,
   "id": "e7ebb359",
   "metadata": {
    "execution": {
     "iopub.execute_input": "2023-11-06T05:50:19.932066Z",
     "iopub.status.busy": "2023-11-06T05:50:19.931658Z",
     "iopub.status.idle": "2023-11-06T05:50:20.227775Z",
     "shell.execute_reply": "2023-11-06T05:50:20.226898Z"
    },
    "papermill": {
     "duration": 0.307961,
     "end_time": "2023-11-06T05:50:20.230231",
     "exception": false,
     "start_time": "2023-11-06T05:50:19.922270",
     "status": "completed"
    },
    "tags": []
   },
   "outputs": [
    {
     "data": {
      "image/png": "[encoded data removed]",
      "text/plain": [
       "<Figure size 640x480 with 1 Axes>"
      ]
     },
     "metadata": {},
     "output_type": "display_data"
    }
   ],
   "source": [
    "# Create a line plot\n",
    "plt.scatter(data_new['Years of Experience'], data_new['Salary'], color='blue', s=7)\n",
    "\n",
    "# Customize the plot\n",
    "plt.title('Salary vs Experience')\n",
    "plt.xlabel('Years of Experience')\n",
    "plt.ylabel('Salary')\n",
    "\n",
    "# Show the plot\n",
    "plt.show()"
   ]
  },
  {
   "cell_type": "markdown",
   "id": "165c9e16",
   "metadata": {
    "papermill": {
     "duration": 0.00822,
     "end_time": "2023-11-06T05:50:20.247121",
     "exception": false,
     "start_time": "2023-11-06T05:50:20.238901",
     "status": "completed"
    },
    "tags": []
   },
   "source": [
    " **<h1>Data Selection</h1>**"
   ]
  },
  {
   "cell_type": "code",
   "execution_count": 8,
   "id": "cdf65769",
   "metadata": {
    "execution": {
     "iopub.execute_input": "2023-11-06T05:50:20.267627Z",
     "iopub.status.busy": "2023-11-06T05:50:20.266438Z",
     "iopub.status.idle": "2023-11-06T05:50:20.289950Z",
     "shell.execute_reply": "2023-11-06T05:50:20.288465Z"
    },
    "papermill": {
     "duration": 0.036664,
     "end_time": "2023-11-06T05:50:20.292979",
     "exception": false,
     "start_time": "2023-11-06T05:50:20.256315",
     "status": "completed"
    },
    "tags": []
   },
   "outputs": [
    {
     "data": {
      "text/html": [
       "<div>\n",
       "<style scoped>\n",
       "    .dataframe tbody tr th:only-of-type {\n",
       "        vertical-align: middle;\n",
       "    }\n",
       "\n",
       "    .dataframe tbody tr th {\n",
       "        vertical-align: top;\n",
       "    }\n",
       "\n",
       "    .dataframe thead th {\n",
       "        text-align: right;\n",
       "    }\n",
       "</style>\n",
       "<table border=\"1\" class=\"dataframe\">\n",
       "  <thead>\n",
       "    <tr style=\"text-align: right;\">\n",
       "      <th></th>\n",
       "      <th>Age</th>\n",
       "      <th>Gender</th>\n",
       "      <th>Education Level</th>\n",
       "      <th>Job Title</th>\n",
       "      <th>Years of Experience</th>\n",
       "      <th>Salary</th>\n",
       "    </tr>\n",
       "  </thead>\n",
       "  <tbody>\n",
       "    <tr>\n",
       "      <th>0</th>\n",
       "      <td>32.0</td>\n",
       "      <td>Male</td>\n",
       "      <td>Bachelor's</td>\n",
       "      <td>Software Engineer</td>\n",
       "      <td>5.0</td>\n",
       "      <td>90000.0</td>\n",
       "    </tr>\n",
       "    <tr>\n",
       "      <th>1</th>\n",
       "      <td>28.0</td>\n",
       "      <td>Female</td>\n",
       "      <td>Master's</td>\n",
       "      <td>Data Analyst</td>\n",
       "      <td>3.0</td>\n",
       "      <td>65000.0</td>\n",
       "    </tr>\n",
       "    <tr>\n",
       "      <th>2</th>\n",
       "      <td>45.0</td>\n",
       "      <td>Male</td>\n",
       "      <td>PhD</td>\n",
       "      <td>Senior Manager</td>\n",
       "      <td>15.0</td>\n",
       "      <td>150000.0</td>\n",
       "    </tr>\n",
       "    <tr>\n",
       "      <th>3</th>\n",
       "      <td>36.0</td>\n",
       "      <td>Female</td>\n",
       "      <td>Bachelor's</td>\n",
       "      <td>Sales Associate</td>\n",
       "      <td>7.0</td>\n",
       "      <td>60000.0</td>\n",
       "    </tr>\n",
       "    <tr>\n",
       "      <th>4</th>\n",
       "      <td>52.0</td>\n",
       "      <td>Male</td>\n",
       "      <td>Master's</td>\n",
       "      <td>Director</td>\n",
       "      <td>20.0</td>\n",
       "      <td>200000.0</td>\n",
       "    </tr>\n",
       "    <tr>\n",
       "      <th>...</th>\n",
       "      <td>...</td>\n",
       "      <td>...</td>\n",
       "      <td>...</td>\n",
       "      <td>...</td>\n",
       "      <td>...</td>\n",
       "      <td>...</td>\n",
       "    </tr>\n",
       "    <tr>\n",
       "      <th>370</th>\n",
       "      <td>35.0</td>\n",
       "      <td>Female</td>\n",
       "      <td>Bachelor's</td>\n",
       "      <td>Senior Marketing Analyst</td>\n",
       "      <td>8.0</td>\n",
       "      <td>85000.0</td>\n",
       "    </tr>\n",
       "    <tr>\n",
       "      <th>371</th>\n",
       "      <td>43.0</td>\n",
       "      <td>Male</td>\n",
       "      <td>Master's</td>\n",
       "      <td>Director of Operations</td>\n",
       "      <td>19.0</td>\n",
       "      <td>170000.0</td>\n",
       "    </tr>\n",
       "    <tr>\n",
       "      <th>372</th>\n",
       "      <td>29.0</td>\n",
       "      <td>Female</td>\n",
       "      <td>Bachelor's</td>\n",
       "      <td>Junior Project Manager</td>\n",
       "      <td>2.0</td>\n",
       "      <td>40000.0</td>\n",
       "    </tr>\n",
       "    <tr>\n",
       "      <th>373</th>\n",
       "      <td>34.0</td>\n",
       "      <td>Male</td>\n",
       "      <td>Bachelor's</td>\n",
       "      <td>Senior Operations Coordinator</td>\n",
       "      <td>7.0</td>\n",
       "      <td>90000.0</td>\n",
       "    </tr>\n",
       "    <tr>\n",
       "      <th>374</th>\n",
       "      <td>44.0</td>\n",
       "      <td>Female</td>\n",
       "      <td>PhD</td>\n",
       "      <td>Senior Business Analyst</td>\n",
       "      <td>15.0</td>\n",
       "      <td>150000.0</td>\n",
       "    </tr>\n",
       "  </tbody>\n",
       "</table>\n",
       "<p>373 rows × 6 columns</p>\n",
       "</div>"
      ],
      "text/plain": [
       "      Age  Gender Education Level                      Job Title  \\\n",
       "0    32.0    Male      Bachelor's              Software Engineer   \n",
       "1    28.0  Female        Master's                   Data Analyst   \n",
       "2    45.0    Male             PhD                 Senior Manager   \n",
       "3    36.0  Female      Bachelor's                Sales Associate   \n",
       "4    52.0    Male        Master's                       Director   \n",
       "..    ...     ...             ...                            ...   \n",
       "370  35.0  Female      Bachelor's       Senior Marketing Analyst   \n",
       "371  43.0    Male        Master's         Director of Operations   \n",
       "372  29.0  Female      Bachelor's         Junior Project Manager   \n",
       "373  34.0    Male      Bachelor's  Senior Operations Coordinator   \n",
       "374  44.0  Female             PhD        Senior Business Analyst   \n",
       "\n",
       "     Years of Experience    Salary  \n",
       "0                    5.0   90000.0  \n",
       "1                    3.0   65000.0  \n",
       "2                   15.0  150000.0  \n",
       "3                    7.0   60000.0  \n",
       "4                   20.0  200000.0  \n",
       "..                   ...       ...  \n",
       "370                  8.0   85000.0  \n",
       "371                 19.0  170000.0  \n",
       "372                  2.0   40000.0  \n",
       "373                  7.0   90000.0  \n",
       "374                 15.0  150000.0  \n",
       "\n",
       "[373 rows x 6 columns]"
      ]
     },
     "execution_count": 8,
     "metadata": {},
     "output_type": "execute_result"
    }
   ],
   "source": [
    "data_new"
   ]
  },
  {
   "cell_type": "code",
   "execution_count": 9,
   "id": "68737f12",
   "metadata": {
    "execution": {
     "iopub.execute_input": "2023-11-06T05:50:20.313050Z",
     "iopub.status.busy": "2023-11-06T05:50:20.312624Z",
     "iopub.status.idle": "2023-11-06T05:50:20.320629Z",
     "shell.execute_reply": "2023-11-06T05:50:20.319433Z"
    },
    "papermill": {
     "duration": 0.020924,
     "end_time": "2023-11-06T05:50:20.323117",
     "exception": false,
     "start_time": "2023-11-06T05:50:20.302193",
     "status": "completed"
    },
    "tags": []
   },
   "outputs": [],
   "source": [
    "x2 =  np.array(data_new[[\"Age\",\"Years of Experience\"]])\n",
    "y2 = np.array(data_new[\"Salary\"])"
   ]
  },
  {
   "cell_type": "code",
   "execution_count": 10,
   "id": "13a7c4e1",
   "metadata": {
    "execution": {
     "iopub.execute_input": "2023-11-06T05:50:20.343195Z",
     "iopub.status.busy": "2023-11-06T05:50:20.342425Z",
     "iopub.status.idle": "2023-11-06T05:50:20.347840Z",
     "shell.execute_reply": "2023-11-06T05:50:20.347002Z"
    },
    "papermill": {
     "duration": 0.017975,
     "end_time": "2023-11-06T05:50:20.350151",
     "exception": false,
     "start_time": "2023-11-06T05:50:20.332176",
     "status": "completed"
    },
    "tags": []
   },
   "outputs": [],
   "source": [
    "# spliting the dataset\n",
    "x_train , x_test , y_train , y_test = train_test_split(x2,y2,test_size=0.3)"
   ]
  },
  {
   "cell_type": "markdown",
   "id": "cc915dcb",
   "metadata": {
    "papermill": {
     "duration": 0.008626,
     "end_time": "2023-11-06T05:50:20.367945",
     "exception": false,
     "start_time": "2023-11-06T05:50:20.359319",
     "status": "completed"
    },
    "tags": []
   },
   "source": [
    " **<h1>Multiple Linear Regression</h1>**"
   ]
  },
  {
   "cell_type": "code",
   "execution_count": 11,
   "id": "036d2ed7",
   "metadata": {
    "execution": {
     "iopub.execute_input": "2023-11-06T05:50:20.388043Z",
     "iopub.status.busy": "2023-11-06T05:50:20.387277Z",
     "iopub.status.idle": "2023-11-06T05:50:20.425978Z",
     "shell.execute_reply": "2023-11-06T05:50:20.424809Z"
    },
    "papermill": {
     "duration": 0.051666,
     "end_time": "2023-11-06T05:50:20.428597",
     "exception": false,
     "start_time": "2023-11-06T05:50:20.376931",
     "status": "completed"
    },
    "tags": []
   },
   "outputs": [
    {
     "data": {
      "text/html": [
       "<style>#sk-container-id-1 {color: black;background-color: white;}#sk-container-id-1 pre{padding: 0;}#sk-container-id-1 div.sk-toggleable {background-color: white;}#sk-container-id-1 label.sk-toggleable__label {cursor: pointer;display: block;width: 100%;margin-bottom: 0;padding: 0.3em;box-sizing: border-box;text-align: center;}#sk-container-id-1 label.sk-toggleable__label-arrow:before {content: \"▸\";float: left;margin-right: 0.25em;color: #696969;}#sk-container-id-1 label.sk-toggleable__label-arrow:hover:before {color: black;}#sk-container-id-1 div.sk-estimator:hover label.sk-toggleable__label-arrow:before {color: black;}#sk-container-id-1 div.sk-toggleable__content {max-height: 0;max-width: 0;overflow: hidden;text-align: left;background-color: #f0f8ff;}#sk-container-id-1 div.sk-toggleable__content pre {margin: 0.2em;color: black;border-radius: 0.25em;background-color: #f0f8ff;}#sk-container-id-1 input.sk-toggleable__control:checked~div.sk-toggleable__content {max-height: 200px;max-width: 100%;overflow: auto;}#sk-container-id-1 input.sk-toggleable__control:checked~label.sk-toggleable__label-arrow:before {content: \"▾\";}#sk-container-id-1 div.sk-estimator input.sk-toggleable__control:checked~label.sk-toggleable__label {background-color: #d4ebff;}#sk-container-id-1 div.sk-label input.sk-toggleable__control:checked~label.sk-toggleable__label {background-color: #d4ebff;}#sk-container-id-1 input.sk-hidden--visually {border: 0;clip: rect(1px 1px 1px 1px);clip: rect(1px, 1px, 1px, 1px);height: 1px;margin: -1px;overflow: hidden;padding: 0;position: absolute;width: 1px;}#sk-container-id-1 div.sk-estimator {font-family: monospace;background-color: #f0f8ff;border: 1px dotted black;border-radius: 0.25em;box-sizing: border-box;margin-bottom: 0.5em;}#sk-container-id-1 div.sk-estimator:hover {background-color: #d4ebff;}#sk-container-id-1 div.sk-parallel-item::after {content: \"\";width: 100%;border-bottom: 1px solid gray;flex-grow: 1;}#sk-container-id-1 div.sk-label:hover label.sk-toggleable__label {background-color: #d4ebff;}#sk-container-id-1 div.sk-serial::before {content: \"\";position: absolute;border-left: 1px solid gray;box-sizing: border-box;top: 0;bottom: 0;left: 50%;z-index: 0;}#sk-container-id-1 div.sk-serial {display: flex;flex-direction: column;align-items: center;background-color: white;padding-right: 0.2em;padding-left: 0.2em;position: relative;}#sk-container-id-1 div.sk-item {position: relative;z-index: 1;}#sk-container-id-1 div.sk-parallel {display: flex;align-items: stretch;justify-content: center;background-color: white;position: relative;}#sk-container-id-1 div.sk-item::before, #sk-container-id-1 div.sk-parallel-item::before {content: \"\";position: absolute;border-left: 1px solid gray;box-sizing: border-box;top: 0;bottom: 0;left: 50%;z-index: -1;}#sk-container-id-1 div.sk-parallel-item {display: flex;flex-direction: column;z-index: 1;position: relative;background-color: white;}#sk-container-id-1 div.sk-parallel-item:first-child::after {align-self: flex-end;width: 50%;}#sk-container-id-1 div.sk-parallel-item:last-child::after {align-self: flex-start;width: 50%;}#sk-container-id-1 div.sk-parallel-item:only-child::after {width: 0;}#sk-container-id-1 div.sk-dashed-wrapped {border: 1px dashed gray;margin: 0 0.4em 0.5em 0.4em;box-sizing: border-box;padding-bottom: 0.4em;background-color: white;}#sk-container-id-1 div.sk-label label {font-family: monospace;font-weight: bold;display: inline-block;line-height: 1.2em;}#sk-container-id-1 div.sk-label-container {text-align: center;}#sk-container-id-1 div.sk-container {/* jupyter's `normalize.less` sets `[hidden] { display: none; }` but bootstrap.min.css set `[hidden] { display: none !important; }` so we also need the `!important` here to be able to override the default hidden behavior on the sphinx rendered scikit-learn.org. See: https://github.com/scikit-learn/scikit-learn/issues/21755 */display: inline-block !important;position: relative;}#sk-container-id-1 div.sk-text-repr-fallback {display: none;}</style><div id=\"sk-container-id-1\" class=\"sk-top-container\"><div class=\"sk-text-repr-fallback\"><pre>LinearRegression()</pre><b>In a Jupyter environment, please rerun this cell to show the HTML representation or trust the notebook. <br />On GitHub, the HTML representation is unable to render, please try loading this page with nbviewer.org.</b></div><div class=\"sk-container\" hidden><div class=\"sk-item\"><div class=\"sk-estimator sk-toggleable\"><input class=\"sk-toggleable__control sk-hidden--visually\" id=\"sk-estimator-id-1\" type=\"checkbox\" checked><label for=\"sk-estimator-id-1\" class=\"sk-toggleable__label sk-toggleable__label-arrow\">LinearRegression</label><div class=\"sk-toggleable__content\"><pre>LinearRegression()</pre></div></div></div></div></div>"
      ],
      "text/plain": [
       "LinearRegression()"
      ]
     },
     "execution_count": 11,
     "metadata": {},
     "output_type": "execute_result"
    }
   ],
   "source": [
    "reg = LinearRegression()\n",
    "reg.fit(x_train,y_train)"
   ]
  },
  {
   "cell_type": "code",
   "execution_count": 12,
   "id": "d68f4cfa",
   "metadata": {
    "execution": {
     "iopub.execute_input": "2023-11-06T05:50:20.449238Z",
     "iopub.status.busy": "2023-11-06T05:50:20.448797Z",
     "iopub.status.idle": "2023-11-06T05:50:20.454637Z",
     "shell.execute_reply": "2023-11-06T05:50:20.453402Z"
    },
    "papermill": {
     "duration": 0.019042,
     "end_time": "2023-11-06T05:50:20.456995",
     "exception": false,
     "start_time": "2023-11-06T05:50:20.437953",
     "status": "completed"
    },
    "tags": []
   },
   "outputs": [],
   "source": [
    "y_predict = reg.predict(x_test)"
   ]
  },
  {
   "cell_type": "code",
   "execution_count": 13,
   "id": "e6c0edab",
   "metadata": {
    "execution": {
     "iopub.execute_input": "2023-11-06T05:50:20.477630Z",
     "iopub.status.busy": "2023-11-06T05:50:20.477210Z",
     "iopub.status.idle": "2023-11-06T05:50:20.485066Z",
     "shell.execute_reply": "2023-11-06T05:50:20.483811Z"
    },
    "papermill": {
     "duration": 0.021387,
     "end_time": "2023-11-06T05:50:20.487731",
     "exception": false,
     "start_time": "2023-11-06T05:50:20.466344",
     "status": "completed"
    },
    "tags": []
   },
   "outputs": [
    {
     "name": "stdout",
     "output_type": "stream",
     "text": [
      "R-squared (R2): 0.89\n",
      "Mean Squared Error (MSE): 250228982.20\n"
     ]
    }
   ],
   "source": [
    "# Calculate the R-squared (coefficient of determination)\n",
    "r2 = r2_score(y_test, y_predict)\n",
    "\n",
    "# Calculate the mean squared error (MSE)\n",
    "mse = mean_squared_error(y_test, y_predict)\n",
    "\n",
    "# Print the results\n",
    "print(f\"R-squared (R2): {r2:.2f}\")\n",
    "print(f\"Mean Squared Error (MSE): {mse:.2f}\")"
   ]
  },
  {
   "cell_type": "code",
   "execution_count": 14,
   "id": "bba0735c",
   "metadata": {
    "execution": {
     "iopub.execute_input": "2023-11-06T05:50:20.508781Z",
     "iopub.status.busy": "2023-11-06T05:50:20.508372Z",
     "iopub.status.idle": "2023-11-06T05:50:20.514672Z",
     "shell.execute_reply": "2023-11-06T05:50:20.513267Z"
    },
    "papermill": {
     "duration": 0.019673,
     "end_time": "2023-11-06T05:50:20.516970",
     "exception": false,
     "start_time": "2023-11-06T05:50:20.497297",
     "status": "completed"
    },
    "tags": []
   },
   "outputs": [
    {
     "name": "stdout",
     "output_type": "stream",
     "text": [
      "The model accuracy using the R2 score: 89.40%\n"
     ]
    }
   ],
   "source": [
    "# Calculate the model accuracy as a percentage\n",
    "accuracy_percentage = r2 * 100\n",
    "\n",
    "# Print the results\n",
    "print(f\"The model accuracy using the R2 score: {accuracy_percentage:.2f}%\")"
   ]
  },
  {
   "cell_type": "markdown",
   "id": "26900e78",
   "metadata": {
    "papermill": {
     "duration": 0.009294,
     "end_time": "2023-11-06T05:50:20.536025",
     "exception": false,
     "start_time": "2023-11-06T05:50:20.526731",
     "status": "completed"
    },
    "tags": []
   },
   "source": [
    " **<h1>Plotting the Model</h1>**"
   ]
  },
  {
   "cell_type": "code",
   "execution_count": 15,
   "id": "4ac27ee5",
   "metadata": {
    "execution": {
     "iopub.execute_input": "2023-11-06T05:50:20.557448Z",
     "iopub.status.busy": "2023-11-06T05:50:20.557024Z",
     "iopub.status.idle": "2023-11-06T05:50:20.964657Z",
     "shell.execute_reply": "2023-11-06T05:50:20.963764Z"
    },
    "papermill": {
     "duration": 0.421494,
     "end_time": "2023-11-06T05:50:20.967114",
     "exception": false,
     "start_time": "2023-11-06T05:50:20.545620",
     "status": "completed"
    },
    "tags": []
   },
   "outputs": [
    {
     "data": {
      "image/png": "[encoded data removed]",
      "text/plain": [
       "<Figure size 640x480 with 1 Axes>"
      ]
     },
     "metadata": {},
     "output_type": "display_data"
    }
   ],
   "source": [
    "\n",
    "# Create a scatter plot\n",
    "plt.scatter(y_test, y_predict, color='black', label='Observed vs. Predicted')\n",
    "\n",
    "# Add labels and title\n",
    "plt.xlabel('Observed Values')\n",
    "plt.ylabel('Predicted Values')\n",
    "plt.title('Multiple Linear Regression')\n",
    "\n",
    "# Add a regression line (y = x)\n",
    "plt.plot([min(y_test), max(y_test)], [min(y_test), max(y_test)], color='red', linestyle='--', linewidth=2, label='Perfect Prediction')\n",
    "\n",
    "# Show the legend\n",
    "plt.legend()\n",
    "\n",
    "# Display the plot\n",
    "plt.show()"
   ]
  }
 ],
 "metadata": {
  "kernelspec": {
   "display_name": "Python 3",
   "language": "python",
   "name": "python3"
  },
  "language_info": {
   "codemirror_mode": {
    "name": "ipython",
    "version": 3
   },
   "file_extension": ".py",
   "mimetype": "text/x-python",
   "name": "python",
   "nbconvert_exporter": "python",
   "pygments_lexer": "ipython3",
   "version": "3.10.12"
  },
  "papermill": {
   "default_parameters": {},
   "duration": 8.192938,
   "end_time": "2023-11-06T05:50:21.599278",
   "environment_variables": {},
   "exception": null,
   "input_path": "__notebook__.ipynb",
   "output_path": "__notebook__.ipynb",
   "parameters": {},
   "start_time": "2023-11-06T05:50:13.406340",
   "version": "2.4.0"
  }
 },
 "nbformat": 4,
 "nbformat_minor": 5
}
